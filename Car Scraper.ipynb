{
 "cells": [
  {
   "cell_type": "code",
   "execution_count": null,
   "metadata": {},
   "outputs": [],
   "source": [
    "import requests\n",
    "from bs4 import BeautifulSoup as bs"
   ]
  },
  {
   "cell_type": "code",
   "execution_count": null,
   "metadata": {},
   "outputs": [],
   "source": [
    "brand = str(input('Which Brand?\\t'))\n",
    "model = str(input('Which Model?\\t'))\n",
    "model = model.replace(' ','-')\n",
    "url = 'https://www.carwale.com/' + brand +'-cars/'+model\n",
    "url"
   ]
  },
  {
   "cell_type": "code",
   "execution_count": null,
   "metadata": {},
   "outputs": [],
   "source": [
    "Headers = { \"User-Agent\": 'Mozila/5.0 (Windows NT 10.0; Win64; X64) AppleWebKit/537.36 (KHTML,like Gecko) Chrome/75.0.3770.100 Safari/537.36' }\n",
    "page = requests.get(url,headers = Headers)"
   ]
  },
  {
   "cell_type": "code",
   "execution_count": null,
   "metadata": {},
   "outputs": [],
   "source": [
    "soup = bs(page.content,'html.parser')"
   ]
  },
  {
   "cell_type": "code",
   "execution_count": null,
   "metadata": {},
   "outputs": [],
   "source": [
    "variants = []\n",
    "model = []\n",
    "price = []\n",
    "car_price = soup.find('span',{'class':'o-Hyyko o-bPYcRG o-eqqVmt'})\n",
    "carPrice = car_price.get_text()\n",
    "car_name = soup.find('h1',{'class':'o-dOKno o-bNCMFw o-eqqVmt o-tvvmc'})\n",
    "car_name.div.clear()\n",
    "carName = car_name.get_text()\n",
    "print('Car Details\\nCar Name:\\t\\t'+carName+'\\nPrice:\\t\\t\\t'+carPrice)"
   ]
  },
  {
   "cell_type": "code",
   "execution_count": null,
   "metadata": {},
   "outputs": [],
   "source": []
  }
 ],
 "metadata": {
  "kernelspec": {
   "display_name": "Python 3",
   "language": "python",
   "name": "python3"
  },
  "language_info": {
   "codemirror_mode": {
    "name": "ipython",
    "version": 3
   },
   "file_extension": ".py",
   "mimetype": "text/x-python",
   "name": "python",
   "nbconvert_exporter": "python",
   "pygments_lexer": "ipython3",
   "version": "3.7.4"
  }
 },
 "nbformat": 4,
 "nbformat_minor": 2
}