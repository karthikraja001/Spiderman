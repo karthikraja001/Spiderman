{
 "cells": [
  {
   "cell_type": "code",
   "execution_count": 1,
   "metadata": {},
   "outputs": [],
   "source": [
    "import requests\n",
    "from bs4 import BeautifulSoup as bs"
   ]
  },
  {
   "cell_type": "code",
   "execution_count": 2,
   "metadata": {},
   "outputs": [
    {
     "output_type": "execute_result",
     "data": {
      "text/plain": [
       "'https://www.amazon.in/s?k=samsung s20 fe'"
      ]
     },
     "metadata": {},
     "execution_count": 2
    }
   ],
   "source": [
    "prod = str(input('What is the product?\\t'))\n",
    "url = 'https://www.amazon.in/s?k='+prod\n",
    "url"
   ]
  },
  {
   "cell_type": "code",
   "execution_count": 3,
   "metadata": {},
   "outputs": [],
   "source": [
    "Headers = { \"User-Agent\": 'Mozila/5.0 (Windows NT 10.0; Win64; X64) AppleWebKit/537.36 (KHTML,like Gecko) Chrome/75.0.3770.100 Safari/537.36' }\n",
    "page = requests.get(url, headers = Headers)"
   ]
  },
  {
   "cell_type": "code",
   "execution_count": 4,
   "metadata": {},
   "outputs": [],
   "source": [
    "soup = bs(page.content,'html.parser')"
   ]
  },
  {
   "cell_type": "code",
   "execution_count": 5,
   "metadata": {
    "scrolled": true
   },
   "outputs": [
    {
     "output_type": "stream",
     "name": "stdout",
     "text": [
      "1.  Samsung Galaxy S20 FE (Cloud Mint, 8GB RAM, 128GB Storage) with No Cost EMI/Additional Exchange Offers    =====>    https://amazon.in//Test-Exclusive-2001-Multi-Storage/dp/B086K9XS2W/ref=sr_1_1?dchild=1&keywords=samsung+s20+fe&qid=1607692704&sr=8-1 \n \n2.  Samsung Galaxy S20 FE (Cloud Mint, 8GB RAM, 128GB Storage) with No Cost EMI/Additional Exchange Offers    =====>    https://amazon.in//Test-Exclusive-2001-Multi-Storage/dp/B086K9XS2W/ref=sr_1_1?dchild=1&keywords=samsung+s20+fe&qid=1607692704&sr=8-1 \n \n3.  Samsung Galaxy S20 FE (Cloud Navy, 8GB RAM, 128GB Storage) with No Cost EMI/Additional Exchange Offers    =====>    https://amazon.in//Test-Exclusive-2000-Multi-Storage/dp/B086KF8DL1/ref=sr_1_2?dchild=1&keywords=samsung+s20+fe&qid=1607692704&sr=8-2 \n \n4.  Samsung Galaxy S20 FE (Cloud Navy, 8GB RAM, 128GB Storage) with No Cost EMI/Additional Exchange Offers    =====>    https://amazon.in//Test-Exclusive-2000-Multi-Storage/dp/B086KF8DL1/ref=sr_1_2?dchild=1&keywords=samsung+s20+fe&qid=1607692704&sr=8-2 \n \n5.  Samsung Galaxy S20 FE (Cloud Red, 8GB RAM, 128GB Storage) with No Cost EMI/Additional Exchange Offers    =====>    https://amazon.in//Test-Exclusive-2003-Multi-Storage/dp/B086KDHKKH/ref=sr_1_3?dchild=1&keywords=samsung+s20+fe&qid=1607692704&sr=8-3 \n \n6.  Samsung Galaxy S20 FE (Cloud Red, 8GB RAM, 128GB Storage) with No Cost EMI/Additional Exchange Offers    =====>    https://amazon.in//Test-Exclusive-2003-Multi-Storage/dp/B086KDHKKH/ref=sr_1_3?dchild=1&keywords=samsung+s20+fe&qid=1607692704&sr=8-3 \n \n7.  Samsung Galaxy S20 FE (Cloud White, 8GB RAM, 128GB Storage) with No Cost EMI/Additional Exchange Offers    =====>    https://amazon.in//Test-Exclusive-2004-Multi-Storage/dp/B086KDJGRX/ref=sr_1_4?dchild=1&keywords=samsung+s20+fe&qid=1607692704&sr=8-4 \n \n8.  Samsung Galaxy S20 FE (Cloud White, 8GB RAM, 128GB Storage) with No Cost EMI/Additional Exchange Offers    =====>    https://amazon.in//Test-Exclusive-2004-Multi-Storage/dp/B086KDJGRX/ref=sr_1_4?dchild=1&keywords=samsung+s20+fe&qid=1607692704&sr=8-4 \n \n9.  Samsung Galaxy S20 FE (Cloud Lavender, 8GB RAM, 128GB Storage) with No Cost EMI/Additional Exchange Offers    =====>    https://amazon.in//Test-Exclusive-2002-Multi-Storage/dp/B086KCC66Y/ref=sr_1_5?dchild=1&keywords=samsung+s20+fe&qid=1607692704&sr=8-5 \n \n10.  Samsung Galaxy S20 FE (Cloud Lavender, 8GB RAM, 128GB Storage) with No Cost EMI/Additional Exchange Offers    =====>    https://amazon.in//Test-Exclusive-2002-Multi-Storage/dp/B086KCC66Y/ref=sr_1_5?dchild=1&keywords=samsung+s20+fe&qid=1607692704&sr=8-5 \n \n11.  (Renewed) Samsung Galaxy S20 FE (Cloud Navy, 8GB RAM, 128GB Storage) with No Cost EMI/Additional Exchange Offers    =====>    https://amazon.in//Renewed-Samsung-Storage-Additional-Exchange/dp/B08LQXN5TG/ref=sr_1_6?dchild=1&keywords=samsung+s20+fe&qid=1607692704&sr=8-6 \n \n12.  (Renewed) Samsung Galaxy S20 FE (Cloud Navy, 8GB RAM, 128GB Storage) with No Cost EMI/Additional Exchange Offers    =====>    https://amazon.in//Renewed-Samsung-Storage-Additional-Exchange/dp/B08LQXN5TG/ref=sr_1_6?dchild=1&keywords=samsung+s20+fe&qid=1607692704&sr=8-6 \n \n13.  Samsung Galaxy S20 FE (Blue, 8GB RAM, 256GB Storage) with No Cost EMI/Additional Exchange Offers    =====>    https://amazon.in//Samsung-Galaxy-Storage-Additional-Exchange/dp/B07XBYF7FD/ref=sr_1_7?dchild=1&keywords=samsung+s20+fe&qid=1607692704&sr=8-7 \n \n14.  Samsung Galaxy S20 FE (Blue, 8GB RAM, 256GB Storage) with No Cost EMI/Additional Exchange Offers    =====>    https://amazon.in//Samsung-Galaxy-Storage-Additional-Exchange/dp/B07XBYF7FD/ref=sr_1_7?dchild=1&keywords=samsung+s20+fe&qid=1607692704&sr=8-7 \n \n15.  (Renewed) Samsung Galaxy S20 FE (Cloud Mint, 8GB RAM, 128GB Storage) with No Cost EMI/Additional Exchange Offers    =====>    https://amazon.in//Renewed-Samsung-Storage-Additional-Exchange/dp/B08LZG7TMP/ref=sr_1_8?dchild=1&keywords=samsung+s20+fe&qid=1607692704&sr=8-8 \n \n16.  (Renewed) Samsung Galaxy S20 FE (Cloud Mint, 8GB RAM, 128GB Storage) with No Cost EMI/Additional Exchange Offers    =====>    https://amazon.in//Renewed-Samsung-Storage-Additional-Exchange/dp/B08LZG7TMP/ref=sr_1_8?dchild=1&keywords=samsung+s20+fe&qid=1607692704&sr=8-8 \n \n17.  Samsung Galaxy M51 (Celestial Black, 8GB RAM, 128GB Storage)    =====>    https://amazon.in//Samsung-Galaxy-Celestial-Black-Storage/dp/B085J1CPCW/ref=sr_1_9?dchild=1&keywords=samsung+s20+fe&qid=1607692704&sr=8-9 \n \n18.  Samsung Galaxy M51 (Celestial Black, 8GB RAM, 128GB Storage)    =====>    https://amazon.in//Samsung-Galaxy-Celestial-Black-Storage/dp/B085J1CPCW/ref=sr_1_9?dchild=1&keywords=samsung+s20+fe&qid=1607692704&sr=8-9 \n \n19.  Samsung Galaxy M11 (Black, 4GB RAM, 64GB Storage) with No Cost EMI/Additional Exchange Offers    =====>    https://amazon.in//Samsung-Galaxy-Storage-Additional-Exchange/dp/B086KDZGVK/ref=sr_1_10?dchild=1&keywords=samsung+s20+fe&qid=1607692704&sr=8-10 \n \n20.  Samsung Galaxy M11 (Black, 4GB RAM, 64GB Storage) with No Cost EMI/Additional Exchange Offers    =====>    https://amazon.in//Samsung-Galaxy-Storage-Additional-Exchange/dp/B086KDZGVK/ref=sr_1_10?dchild=1&keywords=samsung+s20+fe&qid=1607692704&sr=8-10 \n \n21.  Samsung Galaxy M51 (Electric Blue, 8GB RAM, 128GB Storage)    =====>    https://amazon.in//Samsung-Galaxy-Electric-Blue-128GB-Storage/dp/B085J1868F/ref=sr_1_11?dchild=1&keywords=samsung+s20+fe&qid=1607692704&sr=8-11 \n \n22.  Samsung Galaxy M51 (Electric Blue, 8GB RAM, 128GB Storage)    =====>    https://amazon.in//Samsung-Galaxy-Electric-Blue-128GB-Storage/dp/B085J1868F/ref=sr_1_11?dchild=1&keywords=samsung+s20+fe&qid=1607692704&sr=8-11 \n \n23.  Samsung Galaxy M01s (Grey, 3GB RAM, 32GB Storage) with No Cost EMI/Additional Exchange Offers    =====>    https://amazon.in//Samsung-Galaxy-Storage-Additional-Exchange/dp/B089MS6V12/ref=sr_1_12?dchild=1&keywords=samsung+s20+fe&qid=1607692704&sr=8-12 \n \n24.  Samsung Galaxy M01s (Grey, 3GB RAM, 32GB Storage) with No Cost EMI/Additional Exchange Offers    =====>    https://amazon.in//Samsung-Galaxy-Storage-Additional-Exchange/dp/B089MS6V12/ref=sr_1_12?dchild=1&keywords=samsung+s20+fe&qid=1607692704&sr=8-12 \n \n25.  Samsung Galaxy M31 Prime Edition (Iceberg Blue, 6GB RAM, 128GB Storage)    =====>    https://amazon.in//Samsung-Galaxy-Prime-Iceberg-Storage/dp/B085J1RXK3/ref=sr_1_13?dchild=1&keywords=samsung+s20+fe&qid=1607692704&sr=8-13 \n \n26.  Samsung Galaxy M31 Prime Edition (Iceberg Blue, 6GB RAM, 128GB Storage)    =====>    https://amazon.in//Samsung-Galaxy-Prime-Iceberg-Storage/dp/B085J1RXK3/ref=sr_1_13?dchild=1&keywords=samsung+s20+fe&qid=1607692704&sr=8-13 \n \n27.  Samsung Galaxy M31s (Mirage Black, 8GB RAM, 128GB Storage)    =====>    https://amazon.in//Samsung-Galaxy-Mirage-Black-Storage/dp/B07DJLVHYC/ref=sr_1_14?dchild=1&keywords=samsung+s20+fe&qid=1607692704&sr=8-14 \n \n28.  Samsung Galaxy M31s (Mirage Black, 8GB RAM, 128GB Storage)    =====>    https://amazon.in//Samsung-Galaxy-Mirage-Black-Storage/dp/B07DJLVHYC/ref=sr_1_14?dchild=1&keywords=samsung+s20+fe&qid=1607692704&sr=8-14 \n \n29.  Samsung Galaxy A21s (Blue, 4GB RAM, 64GB Storage) with No Cost EMI/Additional Exchange Offers    =====>    https://amazon.in//Samsung-Galaxy-Storage-Additional-Exchange/dp/B086KC85W8/ref=sr_1_15?dchild=1&keywords=samsung+s20+fe&qid=1607692704&sr=8-15 \n \n30.  Samsung Galaxy A21s (Blue, 4GB RAM, 64GB Storage) with No Cost EMI/Additional Exchange Offers    =====>    https://amazon.in//Samsung-Galaxy-Storage-Additional-Exchange/dp/B086KC85W8/ref=sr_1_15?dchild=1&keywords=samsung+s20+fe&qid=1607692704&sr=8-15 \n \n31.  Samsung Galaxy S10 (Black, 8GB RAM, 128GB Storage)    =====>    https://amazon.in//Samsung-Galaxy-Storage-Additional-Exchange/dp/B07KXCH2FP/ref=sr_1_16?dchild=1&keywords=samsung+s20+fe&qid=1607692704&sr=8-16 \n \n32.  Samsung Galaxy S10 (Black, 8GB RAM, 128GB Storage)    =====>    https://amazon.in//Samsung-Galaxy-Storage-Additional-Exchange/dp/B07KXCH2FP/ref=sr_1_16?dchild=1&keywords=samsung+s20+fe&qid=1607692704&sr=8-16 \n \n"
     ]
    }
   ],
   "source": [
    "prods = []\n",
    "link = []\n",
    "plist = []\n",
    "for divi in soup.findAll('div',{'class':'sg-col-4-of-12 sg-col-8-of-16 sg-col-12-of-20 sg-col'}):\n",
    "    for the in divi.findAll('h2',{'class':'a-size-mini a-spacing-none a-color-base s-line-clamp-2'}):\n",
    "        for url in the.findAll('a',{'class':'a-link-normal a-text-normal'}):\n",
    "            link.append('https://amazon.in/'+url['href'])\n",
    "        for pro in url.findAll('span',{'class':'a-size-medium a-color-base a-text-normal'}):\n",
    "            prods.append(pro.getText())\n",
    "\n",
    "for i in range(len(link)):\n",
    "    plist.append(str(i+1)+'.  '+prods[i] + '    ' + '=====>' + '    ' + link[i] + ' \\n ')\n",
    "\n",
    "for i in plist:\n",
    "    print(i)"
   ]
  },
  {
   "cell_type": "code",
   "execution_count": 6,
   "metadata": {},
   "outputs": [
    {
     "output_type": "stream",
     "name": "stdout",
     "text": [
      "You Chose:\n1.  Samsung Galaxy S20 FE (Cloud Mint, 8GB RAM, 128GB Storage) with No Cost EMI/Additional Exchange Offers    =====>    https://amazon.in//Test-Exclusive-2001-Multi-Storage/dp/B086K9XS2W/ref=sr_1_1?dchild=1&keywords=samsung+s20+fe&qid=1607692704&sr=8-1 \n \n"
     ]
    }
   ],
   "source": [
    "plink = int(input('Which Product?\\t'))\n",
    "print('You Chose:\\n'+plist[plink-1])"
   ]
  },
  {
   "cell_type": "code",
   "execution_count": 7,
   "metadata": {},
   "outputs": [],
   "source": [
    "fProd_url = link[plink-1]"
   ]
  },
  {
   "cell_type": "code",
   "execution_count": 8,
   "metadata": {},
   "outputs": [],
   "source": [
    "fProd_page = requests.get(fProd_url,headers = Headers)\n",
    "fProd_soup = bs(fProd_page.content,'html.parser')"
   ]
  },
  {
   "cell_type": "code",
   "execution_count": 9,
   "metadata": {},
   "outputs": [
    {
     "output_type": "stream",
     "name": "stdout",
     "text": [
      "This is your Product!!\nProduct:\t\tSamsung Galaxy S20 FE (Cloud Mint, 8GB RAM, 128GB Storage) with No Cost EMI/Additional Exchange Offers\nPrice:\t\t\t₹40,998.00\nURL:\t\t\thttps://amazon.in//Test-Exclusive-2001-Multi-Storage/dp/B086K9XS2W/ref=sr_1_1?dchild=1&keywords=samsung+s20+fe&qid=1607692704&sr=8-1\n"
     ]
    }
   ],
   "source": [
    "titl = []\n",
    "pric = []\n",
    "try:\n",
    "    for title in fProd_soup.findAll('span',{'id':'productTitle'}):\n",
    "        titl.append(title.get_text())\n",
    "\n",
    "    for price in fProd_soup.findAll('span',{'id':'priceblock_ourprice'}):\n",
    "        pric.append(price.get_text())\n",
    "    temp_title = titl[0]\n",
    "    temp_price = pric[0]\n",
    "    title = temp_title.replace('\\n','')\n",
    "    price = temp_price.replace('\\xa0','')\n",
    "    print('This is your Product!!\\nProduct:\\t\\t'+title+'\\nPrice:\\t\\t\\t'+price+'\\nURL:\\t\\t\\t'+link[plink-1])\n",
    "except:\n",
    "    print('No price found')"
   ]
  },
  {
   "cell_type": "code",
   "execution_count": null,
   "metadata": {},
   "outputs": [],
   "source": []
  }
 ],
 "metadata": {
  "kernelspec": {
   "display_name": "Python 3",
   "language": "python",
   "name": "python3"
  }
 },
 "nbformat": 4,
 "nbformat_minor": 2
}