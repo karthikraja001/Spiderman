{
 "cells": [
  {
   "cell_type": "code",
   "execution_count": null,
   "metadata": {},
   "outputs": [],
   "source": [
    "import requests\n",
    "from bs4 import BeautifulSoup as bs"
   ]
  },
  {
   "cell_type": "code",
   "execution_count": null,
   "metadata": {},
   "outputs": [],
   "source": [
    "prod = str(input('What is the product?\\t'))\n",
    "url = 'https://www.amazon.in/s?k='+prod\n",
    "url"
   ]
  },
  {
   "cell_type": "code",
   "execution_count": null,
   "metadata": {},
   "outputs": [],
   "source": [
    "Headers = { \"User-Agent\": 'Mozila/5.0 (Windows NT 10.0; Win64; X64) AppleWebKit/537.36 (KHTML,like Gecko) Chrome/75.0.3770.100 Safari/537.36' }\n",
    "page = requests.get(url, headers = Headers)"
   ]
  },
  {
   "cell_type": "code",
   "execution_count": null,
   "metadata": {},
   "outputs": [],
   "source": [
    "soup = bs(page.content,'html.parser')"
   ]
  },
  {
   "cell_type": "code",
   "execution_count": null,
   "metadata": {
    "scrolled": true
   },
   "outputs": [],
   "source": [
    "prods = []\n",
    "link = []\n",
    "plist = []\n",
    "for divi in soup.findAll('div',{'class':'sg-col-4-of-12 sg-col-8-of-16 sg-col-12-of-20 sg-col'}):\n",
    "    for the in divi.findAll('h2',{'class':'a-size-mini a-spacing-none a-color-base s-line-clamp-2'}):\n",
    "        for url in the.findAll('a',{'class':'a-link-normal a-text-normal'}):\n",
    "            link.append('https://amazon.in/'+url['href'])\n",
    "        for pro in url.findAll('span',{'class':'a-size-medium a-color-base a-text-normal'}):\n",
    "            prods.append(pro.getText())\n",
    "\n",
    "for i in range(len(link)):\n",
    "    plist.append(str(i+1)+'.  '+prods[i] + '    ' + '=====>' + '    ' + link[i] + ' \\n ')\n",
    "\n",
    "for i in plist:\n",
    "    print(i)"
   ]
  },
  {
   "cell_type": "code",
   "execution_count": null,
   "metadata": {},
   "outputs": [],
   "source": [
    "plink = int(input('Which Product?\\t'))\n",
    "print('You Chose:\\n'+plist[plink-1])"
   ]
  },
  {
   "cell_type": "code",
   "execution_count": null,
   "metadata": {},
   "outputs": [],
   "source": [
    "fProd_url = link[plink-1]"
   ]
  },
  {
   "cell_type": "code",
   "execution_count": null,
   "metadata": {},
   "outputs": [],
   "source": [
    "fProd_page = requests.get(fProd_url,headers = Headers)\n",
    "fProd_soup = bs(fProd_page.content,'html.parser')"
   ]
  },
  {
   "cell_type": "code",
   "execution_count": null,
   "metadata": {},
   "outputs": [],
   "source": [
    "titl = []\n",
    "pric = []\n",
    "try:\n",
    "    for title in fProd_soup.findAll('span',{'id':'productTitle'}):\n",
    "        titl.append(title.get_text())\n",
    "\n",
    "    for price in fProd_soup.findAll('span',{'id':'priceblock_ourprice'}):\n",
    "        pric.append(price.get_text())\n",
    "    temp_title = titl[0]\n",
    "    temp_price = pric[0]\n",
    "    title = temp_title.replace('\\n','')\n",
    "    price = temp_price.replace('\\xa0','')\n",
    "    print('This is your Product!!\\nProduct:\\t\\t'+title+'\\nPrice:\\t\\t\\t'+price+'\\nURL:\\t\\t\\t'+link[plink-1])\n",
    "except:\n",
    "    print('No price found')"
   ]
  },
  {
   "cell_type": "code",
   "execution_count": null,
   "metadata": {},
   "outputs": [],
   "source": []
  }
 ],
 "metadata": {
  "kernelspec": {
   "display_name": "Python 3",
   "language": "python",
   "name": "python3"
  }
 },
 "nbformat": 4,
 "nbformat_minor": 2
}