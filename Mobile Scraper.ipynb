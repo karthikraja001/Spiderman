{
 "cells": [
  {
   "cell_type": "code",
   "execution_count": null,
   "metadata": {},
   "outputs": [],
   "source": [
    "import requests\n",
    "from bs4 import BeautifulSoup as bs"
   ]
  },
  {
   "cell_type": "code",
   "execution_count": null,
   "metadata": {},
   "outputs": [],
   "source": [
    "brand = input('What is the Device Brand?')\n",
    "model = input('Model of the Device?')\n",
    "model = model.replace(' ','-')\n",
    "url = 'https://www.91mobiles.com/'+brand+'-'+model+'-price-in-india'\n",
    "url"
   ]
  },
  {
   "cell_type": "code",
   "execution_count": null,
   "metadata": {},
   "outputs": [],
   "source": [
    "Headers = { \"User-Agent\": 'Mozila/5.0 (Windows NT 10.0; Win64; X64) AppleWebKit/537.36 (KHTML,like Gecko) Chrome/75.0.3770.100 Safari/537.36' }\n",
    "page = requests.get(url, headers = Headers)"
   ]
  },
  {
   "cell_type": "code",
   "execution_count": null,
   "metadata": {},
   "outputs": [],
   "source": [
    "soup = bs(page.content,'html.parser')\n",
    "soup"
   ]
  },
  {
   "cell_type": "code",
   "execution_count": null,
   "metadata": {},
   "outputs": [],
   "source": [
    "try:\n",
    "    price = soup.find('span',{'itemprop':'price'}).getText()\n",
    "    name = soup.find('span',{'itemprop':'name'}).getText()\n",
    "    price\n",
    "except AttributeError:\n",
    "    print('wait')\n",
    "    "
   ]
  },
  {
   "cell_type": "code",
   "execution_count": null,
   "metadata": {},
   "outputs": [],
   "source": [
    "import re\n",
    "variants = []\n",
    "urls = []\n",
    "for a in soup.findAll(\"li\", {\"data-href-url\" : True}):\n",
    "    urls.append(a['data-href-url'])\n",
    "def variant(soup):\n",
    "    for varis in soup.find_all('ul',{'class','vrt_ul'}):\n",
    "        x = varis.text\n",
    "        x = re.sub('\\n','',x,1)\n",
    "        variants.append(x)"
   ]
  },
  {
   "cell_type": "code",
   "execution_count": null,
   "metadata": {},
   "outputs": [],
   "source": [
    "variant(soup)\n",
    "vars = []"
   ]
  },
  {
   "cell_type": "code",
   "execution_count": null,
   "metadata": {},
   "outputs": [],
   "source": [
    "try:\n",
    "    pros = variants[0].split('\\n')\n",
    "    print(pros)\n",
    "except:\n",
    "    print('No Variants')"
   ]
  },
  {
   "cell_type": "code",
   "execution_count": null,
   "metadata": {},
   "outputs": [],
   "source": [
    "specifications = []\n",
    "property = []\n",
    "values = []\n",
    "def properties(soup):\n",
    "    for props in soup.findAll('td',{'class':'spec_ttle'}):\n",
    "        property.append(props.get_text())\n",
    "\n",
    "def valus(soup):\n",
    "    for props in soup.findAll('td',{'class':'spec_des'}):\n",
    "        some = props.get_text()\n",
    "        vals = some.replace(' ','')\n",
    "        final = vals.replace('\\n','')\n",
    "        values.append(final)"
   ]
  },
  {
   "cell_type": "code",
   "execution_count": null,
   "metadata": {},
   "outputs": [],
   "source": [
    "properties(soup)\n",
    "valus(soup)"
   ]
  },
  {
   "cell_type": "code",
   "execution_count": null,
   "metadata": {},
   "outputs": [],
   "source": [
    "print(len(property))\n",
    "print(len(values))"
   ]
  },
  {
   "cell_type": "code",
   "execution_count": null,
   "metadata": {},
   "outputs": [],
   "source": [
    "for i in range(len(property)-1):\n",
    "    specifications.append(property[i] +'        '+'--->'+'   '+ values[i])\n",
    "\n",
    "print('Phone Details:\\nPhone:\\t\\t\\t'+name+'\\nPrice (Today)\\t\\t'+price+'\\n\\nSpecifications\\n\\n')\n",
    "for i in specifications:\n",
    "    print(i)"
   ]
  },
  {
   "cell_type": "code",
   "execution_count": null,
   "metadata": {},
   "outputs": [],
   "source": []
  }
 ],
 "metadata": {
  "kernelspec": {
   "display_name": "Python 3",
   "language": "python",
   "name": "python3"
  },
  "language_info": {
   "codemirror_mode": {
    "name": "ipython",
    "version": 3
   },
   "file_extension": ".py",
   "mimetype": "text/x-python",
   "name": "python",
   "nbconvert_exporter": "python",
   "pygments_lexer": "ipython3",
   "version": "3.7.4"
  }
 },
 "nbformat": 4,
 "nbformat_minor": 2
}