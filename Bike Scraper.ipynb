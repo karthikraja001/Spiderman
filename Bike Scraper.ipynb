{
 "cells": [
  {
   "cell_type": "code",
   "execution_count": null,
   "metadata": {},
   "outputs": [],
   "source": [
    "import requests\n",
    "import re\n",
    "from bs4 import BeautifulSoup as bs"
   ]
  },
  {
   "cell_type": "code",
   "execution_count": null,
   "metadata": {},
   "outputs": [],
   "source": [
    "brand = input(\"Enter the bike Brand (eg Yamaha, KTM, etc)\")\n",
    "model = input(\"Enter the model name of the bike (eg r15, rc390, etc)\")\n",
    "model = model.replace(' ','-')\n",
    "url = \"https://www.bikewale.com/\"+brand+\"-bikes/\"+model+\"/\"\n",
    "url"
   ]
  },
  {
   "cell_type": "code",
   "execution_count": null,
   "metadata": {},
   "outputs": [],
   "source": [
    "page = requests.get(url)"
   ]
  },
  {
   "cell_type": "code",
   "execution_count": null,
   "metadata": {},
   "outputs": [],
   "source": [
    "soup = bs(page.content)"
   ]
  },
  {
   "cell_type": "code",
   "execution_count": null,
   "metadata": {},
   "outputs": [],
   "source": [
    "def prodOnRoad():\n",
    "    prod = soup.find('h1', {'class': 'inline-block margin-right15 page-header'}).getText()\n",
    "    price = soup.find('span', {'class': 'font22 font-bold'}).getText()\n",
    "    print(prod + \"-------=> Rs. \"+ price)\n",
    "    \n",
    "def prodNoLaunch():\n",
    "    prod = soup.find('h1', {'class': 'inline-block margin-right15'}).getText()\n",
    "    price = soup.find('span', {'id': 'bike-price'}).getText()\n",
    "    price = price.replace('\\\\xa0','')\n",
    "    print(prod + \"-------=> Rs. \"+ price)"
   ]
  },
  {
   "cell_type": "code",
   "execution_count": null,
   "metadata": {},
   "outputs": [],
   "source": [
    "if soup.find('span',{'class':'model-ribbon upcoming-ribbon'}) is None:\n",
    "    prodOnRoad()\n",
    "else:\n",
    "    prodNoLaunch()"
   ]
  },
  {
   "cell_type": "code",
   "execution_count": null,
   "metadata": {},
   "outputs": [],
   "source": []
  },
  {
   "cell_type": "code",
   "execution_count": null,
   "metadata": {},
   "outputs": [],
   "source": []
  }
 ],
 "metadata": {
  "kernelspec": {
   "display_name": "Python 3",
   "language": "python",
   "name": "python3"
  },
  "language_info": {
   "codemirror_mode": {
    "name": "ipython",
    "version": 3
   },
   "file_extension": ".py",
   "mimetype": "text/x-python",
   "name": "python",
   "nbconvert_exporter": "python",
   "pygments_lexer": "ipython3",
   "version": "3.7.4-final"
  }
 },
 "nbformat": 4,
 "nbformat_minor": 2
}