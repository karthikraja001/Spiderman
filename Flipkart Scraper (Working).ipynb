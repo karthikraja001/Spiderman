{
 "cells": [
  {
   "cell_type": "code",
   "execution_count": null,
   "metadata": {},
   "outputs": [],
   "source": [
    "from bs4 import BeautifulSoup as bs\n",
    "import requests"
   ]
  },
  {
   "cell_type": "code",
   "execution_count": null,
   "metadata": {},
   "outputs": [],
   "source": [
    "pro = input('Enter the Product:  ')\n",
    "URL = 'https://www.flipkart.com/search?q='+pro\n",
    "Headers = { \"User-Agent\": 'Mozila/5.0 (Windows NT 10.0; Win64; X64) AppleWebKit/537.36 (KHTML,like Gecko) Chrome/75.0.3770.100 Safari/537.36' }\n"
   ]
  },
  {
   "cell_type": "code",
   "execution_count": null,
   "metadata": {},
   "outputs": [],
   "source": [
    "page = requests.get(URL, headers=Headers)\n",
    "soup = bs(page.content, 'html.parser')"
   ]
  },
  {
   "cell_type": "code",
   "execution_count": null,
   "metadata": {},
   "outputs": [],
   "source": [
    "search_results = {}\n",
    "url = [] "
   ]
  },
  {
   "cell_type": "code",
   "execution_count": null,
   "metadata": {},
   "outputs": [],
   "source": [
    "for link in soup.findAll('a',{'target':'_blank'}):\n",
    "        url.append(link.get('href'))"
   ]
  },
  {
   "cell_type": "code",
   "execution_count": null,
   "metadata": {},
   "outputs": [],
   "source": [
    "prod=url[1]\n",
    "prod=\"https://www.flipkart.com\"+prod\n",
    "prod"
   ]
  },
  {
   "cell_type": "code",
   "execution_count": null,
   "metadata": {},
   "outputs": [],
   "source": [
    "pg = requests.get(prod,headers=Headers)\n",
    "sp = bs(pg.content,'html.parser')\n",
    "sp"
   ]
  },
  {
   "cell_type": "code",
   "execution_count": null,
   "metadata": {},
   "outputs": [],
   "source": [
    "price = sp.find('div',{'class': '_30jeq3 _16Jk6d'}).get_text()\n",
    "price"
   ]
  },
  {
   "cell_type": "code",
   "execution_count": null,
   "metadata": {},
   "outputs": [],
   "source": [
    "print(\"Product:\\t\"+pro+\"\\n\"+\"Price:\\t\\t\"+price+\"\\n\"+\"Url:\\t\\t\"+prod)\n",
    "drop = int(input(\"\\nEnter the Price Drop:\\t\"))\n",
    "mail = str(input(\"\\nEnter your E-Mail ID:\\t\"))\n",
    "print((\"-\"*20).center(20))\n",
    "print(\"Product:\\t\"+pro+\"\\n\"+\"Price:\\t\\t\"+price+\"\\n\"+\"Url:\\t\\t\"+prod+\"\\nPrice Drop:\\t₹\"+str(drop)+\"\\nE-mail:\\t\\t\"+mail)"
   ]
  },
  {
   "cell_type": "markdown",
   "metadata": {},
   "source": [
    "# "
   ]
  }
 ],
 "metadata": {
  "kernelspec": {
   "display_name": "Python 3",
   "language": "python",
   "name": "python3"
  },
  "language_info": {
   "codemirror_mode": {
    "name": "ipython",
    "version": 3
   },
   "file_extension": ".py",
   "mimetype": "text/x-python",
   "name": "python",
   "nbconvert_exporter": "python",
   "pygments_lexer": "ipython3",
   "version": "3.7.4"
  }
 },
 "nbformat": 4,
 "nbformat_minor": 2
}