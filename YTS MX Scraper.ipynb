{
 "cells": [
  {
   "cell_type": "code",
   "execution_count": null,
   "metadata": {},
   "outputs": [],
   "source": [
    "import requests\n",
    "import re\n",
    "from bs4 import BeautifulSoup as bs"
   ]
  },
  {
   "cell_type": "code",
   "execution_count": null,
   "metadata": {},
   "outputs": [],
   "source": [
    "movie = str(input('What''s the movie?\\t'))\n",
    "url = \"https://yts.unblockit.dev/browse-movies/\"+movie+\"/all/all/0/latest/0/all\""
   ]
  },
  {
   "cell_type": "code",
   "execution_count": null,
   "metadata": {},
   "outputs": [],
   "source": [
    "page = requests.get(url)"
   ]
  },
  {
   "cell_type": "code",
   "execution_count": null,
   "metadata": {},
   "outputs": [],
   "source": [
    "soup = bs(page.content)\n",
    "soup"
   ]
  },
  {
   "cell_type": "code",
   "execution_count": null,
   "metadata": {},
   "outputs": [],
   "source": [
    "title = []\n",
    "link = []\n",
    "pages = []\n",
    "def find_title(soup):\n",
    "    for a in soup.findAll('a',{'class','browse-movie-title'}):\n",
    "        title.append(a.getText())\n",
    "\n",
    "def find_link(soup):\n",
    "    for a in soup.findAll('a',{'class','browse-movie-title'}):\n",
    "        link.append(a['href'])\n",
    "        \n",
    "find_title(soup)\n",
    "find_link(soup)"
   ]
  },
  {
   "cell_type": "code",
   "execution_count": null,
   "metadata": {},
   "outputs": [],
   "source": [
    "pages = []\n",
    "for i in range(len(title)):\n",
    "    pages.append(title[i] + '    ' + '=======>' + '     ' + link[i])"
   ]
  },
  {
   "cell_type": "code",
   "execution_count": null,
   "metadata": {},
   "outputs": [],
   "source": [
    "pages"
   ]
  },
  {
   "cell_type": "code",
   "execution_count": null,
   "metadata": {},
   "outputs": [],
   "source": [
    "mov = int(input('Whick Movie in this(select in number)'))\n",
    "print(r'You chose      '+pages[mov-1])"
   ]
  },
  {
   "cell_type": "code",
   "execution_count": null,
   "metadata": {},
   "outputs": [],
   "source": [
    "movie_url = link[mov-1]"
   ]
  },
  {
   "cell_type": "code",
   "execution_count": null,
   "metadata": {},
   "outputs": [],
   "source": [
    "mov_pg = requests.get(movie_url)"
   ]
  },
  {
   "cell_type": "code",
   "execution_count": null,
   "metadata": {},
   "outputs": [],
   "source": [
    "mov_soup = bs(mov_pg.content)\n",
    "mov_soup"
   ]
  },
  {
   "cell_type": "code",
   "execution_count": null,
   "metadata": {},
   "outputs": [],
   "source": [
    "clarities = []\n",
    "clar_link = []\n",
    "result = []\n",
    "def dwn_link(mov_soup):\n",
    "    for a in mov_soup.findAll('p',{'class','hidden-xs hidden-sm'}):\n",
    "        for link in a.findAll('a',{'href':True}):\n",
    "            clarities.append(link.getText())\n",
    "            clar_link.append(link['href'])"
   ]
  },
  {
   "cell_type": "code",
   "execution_count": null,
   "metadata": {},
   "outputs": [],
   "source": [
    "dwn_link(mov_soup)"
   ]
  },
  {
   "cell_type": "code",
   "execution_count": null,
   "metadata": {},
   "outputs": [],
   "source": [
    "for i in range(len(clarities)):\n",
    "    result.append(clarities[i] + '    '+ '=====>' + '  ' + clar_link[i])"
   ]
  },
  {
   "cell_type": "code",
   "execution_count": null,
   "metadata": {},
   "outputs": [],
   "source": [
    "print('Available Links for the Movie ===>\\t'+ title[mov-1])\n",
    "result"
   ]
  },
  {
   "cell_type": "code",
   "execution_count": null,
   "metadata": {},
   "outputs": [],
   "source": []
  }
 ],
 "metadata": {
  "kernelspec": {
   "display_name": "Python 3",
   "language": "python",
   "name": "python3"
  },
  "language_info": {
   "codemirror_mode": {
    "name": "ipython",
    "version": 3
   },
   "file_extension": ".py",
   "mimetype": "text/x-python",
   "name": "python",
   "nbconvert_exporter": "python",
   "pygments_lexer": "ipython3",
   "version": "3.7.4"
  }
 },
 "nbformat": 4,
 "nbformat_minor": 2
}